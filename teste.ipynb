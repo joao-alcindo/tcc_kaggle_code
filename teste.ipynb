{
 "cells": [
  {
   "cell_type": "code",
   "execution_count": 1,
   "metadata": {},
   "outputs": [],
   "source": [
    "import os\n",
    "import numpy as np\n",
    "import torch\n",
    "from torch.utils.data import Dataset, DataLoader\n",
    "from torchvision import transforms"
   ]
  },
  {
   "cell_type": "code",
   "execution_count": 2,
   "metadata": {},
   "outputs": [],
   "source": [
    "# Set the device for training (e.g., 'cuda' or 'cpu')\n",
    "device = torch.device('cuda')"
   ]
  },
  {
   "cell_type": "code",
   "execution_count": 3,
   "metadata": {},
   "outputs": [],
   "source": [
    "\n",
    "class CustomDataset(Dataset):\n",
    "    def __init__(self, data_path, transform=None):\n",
    "        self.data_path = data_path\n",
    "        self.transform = transform\n",
    "        self.file_list = [file for file in os.listdir(data_path) if file.endswith('.npy')]\n",
    "\n",
    "    def __len__(self):\n",
    "        return len(self.file_list)\n",
    "\n",
    "    def __getitem__(self, idx):\n",
    "        file_name = self.file_list[idx]\n",
    "        file_path = os.path.join(self.data_path, file_name)\n",
    "        data = np.load(file_path)\n",
    "        \n",
    "        if self.transform:\n",
    "            data = self.transform(data)\n",
    "        \n",
    "        return data"
   ]
  },
  {
   "cell_type": "code",
   "execution_count": 4,
   "metadata": {},
   "outputs": [],
   "source": [
    "from scipy.ndimage import rotate  \n",
    "\n",
    "class ResizeNpyWithPadding:\n",
    "    def __init__(self, output_size):\n",
    "        self.output_size = output_size\n",
    "    \n",
    "    def __call__(self, data):\n",
    "        h, w = data.shape\n",
    "        \n",
    "        new_h, new_w = self.output_size\n",
    "        top = (new_h - h) // 2\n",
    "        bottom = new_h - h - top\n",
    "        left = (new_w - w) // 2\n",
    "        right = new_w - w - left\n",
    "        \n",
    "        resized_data = np.pad(data, ((top, bottom), (left, right)), mode='constant')\n",
    "        return resized_data\n",
    "\n",
    "# Custom transformation: Random Horizontal Flip for npy data\n",
    "class RandomHorizontalFlipNpy:\n",
    "    def __call__(self, data):\n",
    "        if np.random.random() < 0.5:\n",
    "            flipped_data = np.fliplr(data)\n",
    "            return flipped_data\n",
    "        return data\n",
    "\n",
    "class RandomRotationNpy:\n",
    "    def __init__(self, degrees):\n",
    "        self.degrees = degrees\n",
    "        \n",
    "    def __call__(self, data):\n",
    "        angle = np.random.uniform(self.degrees[0], self.degrees[1])\n",
    "        rotated_data = rotate(data, angle, reshape=False, mode='constant', cval=0.0)\n",
    "        return rotated_data"
   ]
  },
  {
   "cell_type": "code",
   "execution_count": 10,
   "metadata": {},
   "outputs": [],
   "source": [
    "import os\n",
    "import numpy as np\n",
    "from scipy.ndimage import rotate\n",
    "import torch\n",
    "from torchvision import transforms\n",
    "\n",
    "import cv2\n",
    "from torchvision import transforms\n",
    "\n",
    "# Define the class for resizing with padding\n",
    "class AddingPad:\n",
    "    def __init__(self, output_size):\n",
    "        self.output_size = output_size\n",
    "    \n",
    "    def __call__(self, data):\n",
    "        h, w = data.shape\n",
    "        \n",
    "        new_h, new_w = self.output_size\n",
    "        top = (new_h - h) // 2\n",
    "        bottom = new_h - h - top\n",
    "        left = (new_w - w) // 2\n",
    "        right = new_w - w - left\n",
    "        \n",
    "        padded_data = np.pad(data, ((top, bottom), (left, right)), mode='constant')\n",
    "        return padded_data\n",
    "    \n",
    "\n",
    "\n",
    "class ResizeNumpy:\n",
    "    def __init__(self, output_size):\n",
    "        self.output_size = output_size\n",
    "\n",
    "    def __call__(self, np_array):\n",
    "        h, w = np_array.shape[:2]\n",
    "        new_h, new_w = self.output_size\n",
    "\n",
    "        # Redimensionar o array NumPy usando a interpolação bilinear\n",
    "        resized_array = cv2.resize(np_array, (new_w, new_h), interpolation=cv2.INTER_LINEAR)\n",
    "\n",
    "        return resized_array\n",
    "\n",
    "\n",
    "\n",
    "# Define the class for random horizontal flipping\n",
    "class RandomHorizontalFlipNpy:\n",
    "    def __call__(self, data):\n",
    "        if np.random.rand() < 0.5:\n",
    "            data = np.fliplr(data)\n",
    "        return data\n",
    "\n",
    "# Define the class for random rotation\n",
    "class RandomRotationNpy:\n",
    "    def __init__(self, degrees):\n",
    "        self.degrees = degrees\n",
    "        \n",
    "    def __call__(self, data):\n",
    "        angle = np.random.uniform(self.degrees[0], self.degrees[1])\n",
    "        rotated_data = rotate(data, angle, reshape=False, mode='constant', cval=0.0)\n",
    "        return rotated_data"
   ]
  },
  {
   "cell_type": "code",
   "execution_count": 11,
   "metadata": {},
   "outputs": [],
   "source": [
    "# Define the transformation\n",
    "transform_npy = transforms.Compose([\n",
    "    AddingPad((512,512)),\n",
    "    ResizeNumpy((128, 128)),\n",
    "    RandomHorizontalFlipNpy(),\n",
    "    RandomRotationNpy(degrees=(-30, 30)),  # Random rotation between -15 and 15 degrees\n",
    "    transforms.Lambda(lambda data: data.copy()),  # Copy the data to avoid grad error\n",
    "    transforms.ToTensor(),\n",
    "    transforms.Normalize(mean=[130.10511327778235], std=[316.09062860899644])\n",
    "])\n",
    "\n"
   ]
  },
  {
   "cell_type": "code",
   "execution_count": 12,
   "metadata": {},
   "outputs": [],
   "source": [
    "data_path = os.path.join('D:/dados_tcc/train')\n",
    "\n",
    "\n",
    "lista_de_arquivos = [file for file in os.listdir(data_path) if file.endswith('.npy')]\n",
    "\n",
    "\n",
    "tranform_example = transform_npy(np.load(os.path.join(data_path, lista_de_arquivos[2])))\n"
   ]
  },
  {
   "cell_type": "code",
   "execution_count": 13,
   "metadata": {},
   "outputs": [
    {
     "data": {
      "image/png": "[encoded data removed]",
      "text/plain": [
       "<PIL.Image.Image image mode=L size=128x128>"
      ]
     },
     "execution_count": 13,
     "metadata": {},
     "output_type": "execute_result"
    }
   ],
   "source": [
    "import numpy as np\n",
    "from PIL import Image\n",
    "\n",
    "# Convert the tensor to a NumPy array for plotting\n",
    "image_to_plot = tranform_example.numpy()\n",
    "image_to_plot = image_to_plot.squeeze()  # Remove the channel dimension\n",
    "\n",
    "# Normalize the array to the range [0, 255] if needed\n",
    "image_to_plot = (image_to_plot * 255).astype(np.uint8)\n",
    "\n",
    "# Convert the NumPy array to a PIL Image\n",
    "pil_image = Image.fromarray(image_to_plot, mode='L')  # 'L' mode for grayscale\n",
    "\n",
    "pil_image"
   ]
  },
  {
   "cell_type": "code",
   "execution_count": null,
   "metadata": {},
   "outputs": [
    {
     "data": {
      "text/plain": [
       "array([[[-0.41160699, -0.41160699, -0.41160699, ..., -0.41160699,\n",
       "         -0.41160699, -0.41160699],\n",
       "        [-0.41160699, -0.41160699, -0.41160699, ..., -0.41160699,\n",
       "         -0.41160699, -0.41160699],\n",
       "        [-0.41160699, -0.41160699, -0.41160699, ..., -0.41160699,\n",
       "         -0.41160699, -0.41160699],\n",
       "        ...,\n",
       "        [-0.41160699, -0.41160699, -0.41160699, ..., -0.41160699,\n",
       "         -0.41160699, -0.41160699],\n",
       "        [-0.41160699, -0.41160699, -0.41160699, ..., -0.41160699,\n",
       "         -0.41160699, -0.41160699],\n",
       "        [-0.41160699, -0.41160699, -0.41160699, ..., -0.41160699,\n",
       "         -0.41160699, -0.41160699]]])"
      ]
     },
     "execution_count": 17,
     "metadata": {},
     "output_type": "execute_result"
    }
   ],
   "source": []
  }
 ],
 "metadata": {
  "kernelspec": {
   "display_name": "torch",
   "language": "python",
   "name": "python3"
  },
  "language_info": {
   "codemirror_mode": {
    "name": "ipython",
    "version": 3
   },
   "file_extension": ".py",
   "mimetype": "text/x-python",
   "name": "python",
   "nbconvert_exporter": "python",
   "pygments_lexer": "ipython3",
   "version": "3.9.16"
  },
  "orig_nbformat": 4
 },
 "nbformat": 4,
 "nbformat_minor": 2
}
